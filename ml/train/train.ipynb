{
 "cells": [
  {
   "cell_type": "code",
   "execution_count": null,
   "id": "initial_id",
   "metadata": {
    "collapsed": true
   },
   "outputs": [],
   "source": [
    "import pandas as pd\n",
    "import matplotlib.pyplot as plt\n",
    "import torch\n",
    "from transformers import AutoTokenizer, ElectraForSequenceClassification, TrainingArguments, Trainer, AutoModel, AutoModelForSequenceClassification\n",
    "from sklearn.metrics import precision_recall_fscore_support, accuracy_score\n",
    "\n",
    "device = torch.device('cuda:0' if torch.cuda.is_available() else 'cpu')\n",
    "print(\"device:\", device)\n",
    "\n"
   ]
  },
  {
   "metadata": {},
   "cell_type": "code",
   "outputs": [],
   "execution_count": null,
   "source": [
    "df = pd.read_csv(\"dataset_path\", sep=\"\\t\")\n",
    "df.head()"
   ],
   "id": "b55415caf6022a43"
  },
  {
   "metadata": {},
   "cell_type": "code",
   "outputs": [],
   "execution_count": null,
   "source": "df.info()",
   "id": "cb3151402d452146"
  },
  {
   "metadata": {},
   "cell_type": "markdown",
   "source": "### sep를 tap으로 하고 content하고 label을 분리하면 content의 끝문자열에 특수문자가 있는 경우 정상적으로 sep가 안될 수 있다. df.info를 통해 확인하고 content의 데이터수와 label의 데이터수가 다르다면 다음 코드를 실행해준다.",
   "id": "4f1c68010ecfe5a7"
  },
  {
   "metadata": {},
   "cell_type": "code",
   "outputs": [],
   "execution_count": null,
   "source": [
    "null_idx = df[df.lable.isnull()].index\n",
    "\n",
    "# lable 은 content의 가장 끝 문자열로 설정.\n",
    "df.loc[null_idx, \"lable\"] = df.loc[null_idx, \"content\"].apply(lambda x: x[-1])\n",
    "\n",
    "# content는 \"\\t\" 앞부분까지의 문자열로 설정.\n",
    "df.loc[null_idx, \"content\"] = df.loc[null_idx, \"content\"].apply(lambda x: x[:-2])\n",
    "df = df.astype({\"lable\":\"int\"})"
   ],
   "id": "21ad922b9fab7f05"
  },
  {
   "metadata": {},
   "cell_type": "code",
   "outputs": [],
   "execution_count": null,
   "source": "df.info()",
   "id": "84f37d0bac8f537"
  },
  {
   "metadata": {},
   "cell_type": "code",
   "outputs": [],
   "execution_count": null,
   "source": [
    "train_data = df.sample(frac=0.8, random_state=42)\n",
    "test_data = df.drop(train_data.index)\n"
   ],
   "id": "f888b87a38ca3b7b"
  },
  {
   "metadata": {},
   "cell_type": "code",
   "outputs": [],
   "execution_count": null,
   "source": [
    "#데이터 중복 제거 코드 \n",
    "\n",
    "train_data.drop_duplicates(subset=[\"content\"], inplace= True)\n",
    "test_data.drop_duplicates(subset=[\"content\"], inplace= True)\n",
    "\n",
    "# 데이터셋 갯수 확인\n",
    "print('중복 제거 후 학습 데이터셋 : {}'.format(len(train_data)))\n",
    "print('중복 제거 후 테스트 데이터셋 : {}'.format(len(test_data)))"
   ],
   "id": "82422dd4582bfe95"
  },
  {
   "metadata": {},
   "cell_type": "code",
   "outputs": [],
   "execution_count": null,
   "source": [
    "MODEL_NAME = \"beomi/KcELECTRA-base\"\n",
    "\n",
    "tokenizer = AutoTokenizer.from_pretrained(MODEL_NAME)\n",
    "\n",
    "tokenized_train_sentences = tokenizer(\n",
    "    list(train_data[\"content\"]),\n",
    "    return_tensors=\"pt\",                # pytorch의 tensor 형태로 return\n",
    "    max_length=128,                     # 최대 토큰길이 설정\n",
    "    padding=True,                       # 제로패딩 설정\n",
    "    truncation=True,                    # max_length 초과 토큰 truncate\n",
    "    add_special_tokens=True,            # special token 추가\n",
    "    )\n",
    "\n",
    "# print(tokenized_train_sentences[0])\n",
    "# print(tokenized_train_sentences[0].tokens)\n",
    "# print(tokenized_train_sentences[0].ids)\n",
    "# print(tokenized_train_sentences[0].attention_mask)\n",
    "\n",
    "\n",
    "tokenized_test_sentences = tokenizer(\n",
    "    list(test_data[\"content\"]),\n",
    "    return_tensors=\"pt\",\n",
    "    max_length=128,\n",
    "    padding=True,\n",
    "    truncation=True,\n",
    "    add_special_tokens=True,\n",
    "    )\n",
    "\n",
    "# print(tokenized_test_sentences[0])\n",
    "# print(tokenized_test_sentences[0].tokens)\n",
    "# print(tokenized_test_sentences[0].ids)\n",
    "# print(tokenized_test_sentences[0].attention_mask)\n",
    "\n"
   ],
   "id": "347328af534f79eb"
  },
  {
   "metadata": {},
   "cell_type": "code",
   "outputs": [],
   "execution_count": null,
   "source": [
    "from Dataset import CustomDataset\n",
    "\n",
    "train_label = train_data[\"lable\"].values\n",
    "test_label = test_data[\"lable\"].values\n",
    "\n",
    "train_dataset = CustomDataset(tokenized_train_sentences, train_label)\n",
    "test_dataset = CustomDataset(tokenized_test_sentences, test_label)\n"
   ],
   "id": "d0f120a5defacdd5"
  },
  {
   "metadata": {},
   "cell_type": "markdown",
   "source": "### Discriminator만을 구조로 사용하는 ElectraForSequenceClassification (model에 Generator 아키텍쳐는 포함되지 않는다. 포함되는 경우는 자연어 생성의 경우가 있다.)",
   "id": "6add212534ca6e27"
  },
  {
   "metadata": {
    "ExecuteTime": {
     "end_time": "2024-10-21T07:48:03.401345Z",
     "start_time": "2024-10-21T07:48:03.398928Z"
    }
   },
   "cell_type": "code",
   "source": [
    "model = AutoModelForSequenceClassification.from_pretrained('beomi/KcELECTRA-base', num_labels=2)\n",
    "model.to(device)"
   ],
   "id": "d13ae0b91313a8dd",
   "outputs": [],
   "execution_count": null
  },
  {
   "metadata": {},
   "cell_type": "code",
   "outputs": [],
   "execution_count": null,
   "source": [
    "def compute_metrics(pred):\n",
    "    labels = pred.label_ids\n",
    "    preds = pred.predictions.argmax(-1)\n",
    "    precision, recall, f1, _ = precision_recall_fscore_support(labels, preds, average='binary')\n",
    "    acc = accuracy_score(labels, preds)\n",
    "    return {\n",
    "        'accuracy': acc,\n",
    "        'f1': f1,\n",
    "        'precision': precision,\n",
    "        'recall': recall\n",
    "    }"
   ],
   "id": "9ba47dc8bca97f56"
  },
  {
   "metadata": {},
   "cell_type": "code",
   "outputs": [],
   "execution_count": null,
   "source": [
    "training_args = TrainingArguments(\n",
    "    output_dir='./',                    # 학습결과 저장경로\n",
    "    num_train_epochs=10,                # 학습 epoch 설정\n",
    "    per_device_train_batch_size=8,      # train batch_size 설정\n",
    "    per_device_eval_batch_size=64,      # test batch_size 설정\n",
    "    logging_dir='./logs',               # 학습log 저장경로\n",
    "    logging_steps=500,                  # 학습log 기록 단위\n",
    "    save_total_limit=2,                 # 학습결과 저장 최대갯수\n",
    ")\n",
    "\n",
    "\n",
    "trainer = Trainer(\n",
    "    model=model,                         # 학습하고자하는  Transformers model\n",
    "    args=training_args,                  # 위에서 정의한 Training Arguments\n",
    "    train_dataset=train_dataset,         # 학습 데이터셋\n",
    "    eval_dataset=test_dataset,           # 평가 데이터셋\n",
    "    compute_metrics=compute_metrics,     # 평가지표\n",
    ")"
   ],
   "id": "ba1331138208c559"
  },
  {
   "metadata": {},
   "cell_type": "code",
   "outputs": [],
   "execution_count": null,
   "source": "trainer.train()",
   "id": "cce19a6f34e3eb6b"
  },
  {
   "metadata": {},
   "cell_type": "markdown",
   "source": "# Save trained Model",
   "id": "9cc2adb9625fea63"
  },
  {
   "metadata": {},
   "cell_type": "code",
   "outputs": [],
   "execution_count": null,
   "source": "model.save_pretrained('model.pt')",
   "id": "241a7bf81c39d93c"
  }
 ],
 "metadata": {
  "kernelspec": {
   "display_name": "Python 3",
   "language": "python",
   "name": "python3"
  },
  "language_info": {
   "codemirror_mode": {
    "name": "ipython",
    "version": 2
   },
   "file_extension": ".py",
   "mimetype": "text/x-python",
   "name": "python",
   "nbconvert_exporter": "python",
   "pygments_lexer": "ipython2",
   "version": "2.7.6"
  }
 },
 "nbformat": 4,
 "nbformat_minor": 5
}
