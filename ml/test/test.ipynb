{
 "cells": [
  {
   "cell_type": "code",
   "id": "initial_id",
   "metadata": {
    "collapsed": true,
    "ExecuteTime": {
     "end_time": "2024-10-21T09:15:41.407662Z",
     "start_time": "2024-10-21T09:15:37.299847Z"
    }
   },
   "source": [
    "import torch\n",
    "from transformers import AutoTokenizer, ElectraForSequenceClassification, TrainingArguments, Trainer, AutoModel, AutoModelForSequenceClassification\n",
    "from sklearn.metrics import precision_recall_fscore_support, accuracy_score\n",
    "import pandas as pd\n",
    "from Dataset import CustomDataset"
   ],
   "outputs": [
    {
     "name": "stderr",
     "output_type": "stream",
     "text": [
      "/home/mingyu13/바탕화면/ToU-Project-Artificial-Intelligence-Archived/venv/lib/python3.12/site-packages/tqdm/auto.py:21: TqdmWarning: IProgress not found. Please update jupyter and ipywidgets. See https://ipywidgets.readthedocs.io/en/stable/user_install.html\n",
      "  from .autonotebook import tqdm as notebook_tqdm\n"
     ]
    }
   ],
   "execution_count": 1
  },
  {
   "metadata": {},
   "cell_type": "code",
   "outputs": [],
   "execution_count": null,
   "source": [
    "df = pd.read_csv(\"dataset_path\", sep=\"\\t\")\n",
    "df.info()"
   ],
   "id": "493ffc18afb5a2e5"
  },
  {
   "metadata": {},
   "cell_type": "markdown",
   "source": "### sep를 tap으로 하고 content하고 label을 분리하면 content의 끝문자열에 특수문자가 있는 경우 정상적으로 sep가 안될 수 있다. df.info를 통해 확인하고 content의 데이터수와 label의 데이터수가 다르다면 다음 코드를 실행해준다.",
   "id": "3cac3f43c37e4543"
  },
  {
   "metadata": {},
   "cell_type": "code",
   "outputs": [],
   "execution_count": null,
   "source": [
    "null_idx = df[df.lable.isnull()].index\n",
    "\n",
    "# lable 은 content의 가장 끝 문자열로 설정.\n",
    "df.loc[null_idx, \"lable\"] = df.loc[null_idx, \"content\"].apply(lambda x: x[-1])\n",
    "\n",
    "# content는 \"\\t\" 앞부분까지의 문자열로 설정.\n",
    "df.loc[null_idx, \"content\"] = df.loc[null_idx, \"content\"].apply(lambda x: x[:-2])\n",
    "df = df.astype({\"lable\":\"int\"})\n",
    "\n",
    "\n"
   ],
   "id": "d49667836f657956"
  },
  {
   "metadata": {},
   "cell_type": "code",
   "outputs": [],
   "execution_count": null,
   "source": [
    "MODEL_NAME = \"beomi/KcELECTRA-base\"\n",
    "\n",
    "tokenizer = AutoTokenizer.from_pretrained(MODEL_NAME)"
   ],
   "id": "e58620068c033db7"
  },
  {
   "metadata": {},
   "cell_type": "code",
   "outputs": [],
   "execution_count": null,
   "source": [
    "train_data = df.sample(frac=0.8, random_state=42)\n",
    "test_data = df.drop(train_data.index)\n",
    "\n",
    "test_data.drop_duplicates(subset=[\"content\"], inplace= True)\n",
    "\n",
    "\n",
    "\n",
    "tokenized_test_sentences = tokenizer(\n",
    "    list(test_data[\"content\"]),\n",
    "    return_tensors=\"pt\",\n",
    "    max_length=128,\n",
    "    padding=True,\n",
    "    truncation=True,\n",
    "    add_special_tokens=True,\n",
    "    )\n",
    "\n",
    "# print(tokenized_test_sentences[0])\n",
    "# print(tokenized_test_sentences[0].tokens)\n",
    "# print(tokenized_test_sentences[0].ids)\n",
    "# print(tokenized_test_sentences[0].attention_mask)\n",
    "\n",
    "\n",
    "test_label = test_data[\"lable\"].values\n",
    "\n",
    "test_dataset = CustomDataset(tokenized_test_sentences, test_label)\n"
   ],
   "id": "d6c7a329846c22fa"
  },
  {
   "metadata": {},
   "cell_type": "code",
   "outputs": [],
   "execution_count": null,
   "source": [
    "device = torch.device('cuda:0' if torch.cuda.is_available() else 'cpu')\n",
    "model = AutoModelForSequenceClassification.from_pretrained('fastival_model', num_labels=2)\n",
    "model.to(device)\n",
    "tokenizer = AutoTokenizer.from_pretrained(\"beomi/KcELECTRA-base\")\n",
    "\n",
    "\n"
   ],
   "id": "34a98c53b1dc197d"
  },
  {
   "metadata": {},
   "cell_type": "code",
   "outputs": [],
   "execution_count": null,
   "source": [
    "def compute_metrics(pred):\n",
    "    labels = pred.label_ids\n",
    "    preds = pred.predictions.argmax(-1)\n",
    "    precision, recall, f1, _ = precision_recall_fscore_support(labels, preds, average='binary')\n",
    "    acc = accuracy_score(labels, preds)\n",
    "    return {\n",
    "        'accuracy': acc,\n",
    "        'f1': f1,\n",
    "        'precision': precision,\n",
    "        'recall': recall\n",
    "    }"
   ],
   "id": "974a8c5c9914f7a8"
  },
  {
   "metadata": {},
   "cell_type": "code",
   "outputs": [],
   "execution_count": null,
   "source": [
    "trainer = Trainer(\n",
    "    model=model,                         # 학습하고자하는  Transformers model\n",
    "    eval_dataset=test_dataset,           # 평가 데이터셋\n",
    "    compute_metrics=compute_metrics,     # 평가지표\n",
    ")"
   ],
   "id": "8c1117eb19319bce"
  },
  {
   "metadata": {},
   "cell_type": "code",
   "outputs": [],
   "execution_count": null,
   "source": "trainer.evaluate(eval_dataset=test_dataset)",
   "id": "87a7d7f3cf37fb70"
  }
 ],
 "metadata": {
  "kernelspec": {
   "display_name": "Python 3",
   "language": "python",
   "name": "python3"
  },
  "language_info": {
   "codemirror_mode": {
    "name": "ipython",
    "version": 2
   },
   "file_extension": ".py",
   "mimetype": "text/x-python",
   "name": "python",
   "nbconvert_exporter": "python",
   "pygments_lexer": "ipython2",
   "version": "2.7.6"
  }
 },
 "nbformat": 4,
 "nbformat_minor": 5
}
